{
  "nbformat": 4,
  "nbformat_minor": 0,
  "metadata": {
    "colab": {
      "provenance": [],
      "authorship_tag": "ABX9TyPOUu2z9N3eXBMAR6W+BaMK",
      "include_colab_link": true
    },
    "kernelspec": {
      "name": "python3",
      "display_name": "Python 3"
    },
    "language_info": {
      "name": "python"
    }
  },
  "cells": [
    {
      "cell_type": "markdown",
      "metadata": {
        "id": "view-in-github",
        "colab_type": "text"
      },
      "source": [
        "<a href=\"https://colab.research.google.com/github/huy20146177/baitapAI/blob/main/fashion_mnist.ipynb\" target=\"_parent\"><img src=\"https://colab.research.google.com/assets/colab-badge.svg\" alt=\"Open In Colab\"/></a>"
      ]
    },
    {
      "cell_type": "code",
      "execution_count": 1,
      "metadata": {
        "id": "zDPMfPEAc73x"
      },
      "outputs": [],
      "source": [
        "from keras.datasets import fashion_mnist\n",
        "from keras.models import Sequential\n",
        "import numpy as np\n",
        "import pandas as pd\n",
        "import matplotlib.pyplot as plt\n",
        "import seaborn as sns"
      ]
    },
    {
      "cell_type": "code",
      "source": [
        "(x_train,y_train),(x_test,y_test) = fashion_mnist.load_data()"
      ],
      "metadata": {
        "colab": {
          "base_uri": "https://localhost:8080/"
        },
        "id": "g5kYzyPxvAvf",
        "outputId": "fac6dd27-ebb9-4697-8773-90d76d9fa4ac"
      },
      "execution_count": 2,
      "outputs": [
        {
          "output_type": "stream",
          "name": "stdout",
          "text": [
            "Downloading data from https://storage.googleapis.com/tensorflow/tf-keras-datasets/train-labels-idx1-ubyte.gz\n",
            "29515/29515 [==============================] - 0s 0us/step\n",
            "Downloading data from https://storage.googleapis.com/tensorflow/tf-keras-datasets/train-images-idx3-ubyte.gz\n",
            "26421880/26421880 [==============================] - 0s 0us/step\n",
            "Downloading data from https://storage.googleapis.com/tensorflow/tf-keras-datasets/t10k-labels-idx1-ubyte.gz\n",
            "5148/5148 [==============================] - 0s 0us/step\n",
            "Downloading data from https://storage.googleapis.com/tensorflow/tf-keras-datasets/t10k-images-idx3-ubyte.gz\n",
            "4422102/4422102 [==============================] - 0s 0us/step\n"
          ]
        }
      ]
    },
    {
      "cell_type": "code",
      "source": [
        "x_train.shape"
      ],
      "metadata": {
        "colab": {
          "base_uri": "https://localhost:8080/"
        },
        "id": "CBIqHXXxvIW_",
        "outputId": "a77e90a4-9fa9-42e7-f767-2b1c302e8167"
      },
      "execution_count": 3,
      "outputs": [
        {
          "output_type": "execute_result",
          "data": {
            "text/plain": [
              "(60000, 28, 28)"
            ]
          },
          "metadata": {},
          "execution_count": 3
        }
      ]
    },
    {
      "cell_type": "code",
      "source": [
        "y_train.shape"
      ],
      "metadata": {
        "colab": {
          "base_uri": "https://localhost:8080/"
        },
        "id": "-Ek0LooVvKRp",
        "outputId": "48baf293-f724-40fd-b007-8db4ce5af079"
      },
      "execution_count": 4,
      "outputs": [
        {
          "output_type": "execute_result",
          "data": {
            "text/plain": [
              "(60000,)"
            ]
          },
          "metadata": {},
          "execution_count": 4
        }
      ]
    },
    {
      "cell_type": "code",
      "source": [
        "x_test.shape"
      ],
      "metadata": {
        "colab": {
          "base_uri": "https://localhost:8080/"
        },
        "id": "0z-aVJZWvLmZ",
        "outputId": "6526c896-8b20-46c8-a388-79ff338f01a4"
      },
      "execution_count": 5,
      "outputs": [
        {
          "output_type": "execute_result",
          "data": {
            "text/plain": [
              "(10000, 28, 28)"
            ]
          },
          "metadata": {},
          "execution_count": 5
        }
      ]
    },
    {
      "cell_type": "code",
      "source": [
        "y_test.shape"
      ],
      "metadata": {
        "colab": {
          "base_uri": "https://localhost:8080/"
        },
        "id": "g-e1reAdvM8n",
        "outputId": "22dab144-8b5f-4974-eeaa-0677ce1c161b"
      },
      "execution_count": 6,
      "outputs": [
        {
          "output_type": "execute_result",
          "data": {
            "text/plain": [
              "(10000,)"
            ]
          },
          "metadata": {},
          "execution_count": 6
        }
      ]
    },
    {
      "cell_type": "code",
      "source": [
        "import matplotlib.pyplot as plt\n",
        "hinh= x_train[50]   #Lấy hình ở vị trí thứ 55\n",
        "plt.imshow(hinh,cmap=plt.cm.binary)\n",
        "plt.show\n",
        "print(\"So nay la:\",y_train[5])"
      ],
      "metadata": {
        "colab": {
          "base_uri": "https://localhost:8080/",
          "height": 448
        },
        "id": "jRktmriOvOPt",
        "outputId": "fa5522ee-1207-4f65-fe4d-89e0860227b1"
      },
      "execution_count": 7,
      "outputs": [
        {
          "output_type": "stream",
          "name": "stdout",
          "text": [
            "So nay la: 2\n"
          ]
        },
        {
          "output_type": "display_data",
          "data": {
            "text/plain": [
              "<Figure size 640x480 with 1 Axes>"
            ],
            "image/png": "[encoded data removed]"
          },
          "metadata": {}
        }
      ]
    },
    {
      "cell_type": "code",
      "source": [
        "for i in range(10):\n",
        "  plt.subplot(3,5,i+1)  # 2 hàng 5 cột \n",
        "  plt.tight_layout()\n",
        "  plt.imshow(x_train[i],cmap='gray',interpolation='none')\n",
        "  plt.title(\"So:{}\".format(y_train[i]))\n",
        "  plt.xticks([])\n",
        "  plt.yticks([])"
      ],
      "metadata": {
        "colab": {
          "base_uri": "https://localhost:8080/",
          "height": 298
        },
        "id": "OoZ5mMANvUX2",
        "outputId": "db269c5e-594b-4f3f-83e7-66d70769a1ca"
      },
      "execution_count": 8,
      "outputs": [
        {
          "output_type": "display_data",
          "data": {
            "text/plain": [
              "<Figure size 640x480 with 10 Axes>"
            ],
            "image/png": "[encoded data removed]"
          },
          "metadata": {}
        }
      ]
    },
    {
      "cell_type": "code",
      "source": [
        "from keras.models import Sequential\n",
        "from keras.layers import Dense\n",
        "\n",
        "model= Sequential()\n",
        "model.add(Dense(512, input_shape = (28*28,), activation = 'relu'))\n",
        "model.add(Dense(10,activation= 'softmax'))\n",
        "model.summary()"
      ],
      "metadata": {
        "colab": {
          "base_uri": "https://localhost:8080/"
        },
        "id": "ZyOMXejTvXAD",
        "outputId": "18308d0a-920e-4f84-ffd2-e41fb5b3838b"
      },
      "execution_count": 9,
      "outputs": [
        {
          "output_type": "stream",
          "name": "stdout",
          "text": [
            "Model: \"sequential\"\n",
            "_________________________________________________________________\n",
            " Layer (type)                Output Shape              Param #   \n",
            "=================================================================\n",
            " dense (Dense)               (None, 512)               401920    \n",
            "                                                                 \n",
            " dense_1 (Dense)             (None, 10)                5130      \n",
            "                                                                 \n",
            "=================================================================\n",
            "Total params: 407,050\n",
            "Trainable params: 407,050\n",
            "Non-trainable params: 0\n",
            "_________________________________________________________________\n"
          ]
        }
      ]
    },
    {
      "cell_type": "code",
      "source": [
        "x_train = x_train.reshape((60000,28*28))\n",
        "x_train = x_train.astype('float32')/255\n",
        "x_test = x_test.reshape((10000,28*28))\n",
        "x_test = x_test.astype('float32')/255"
      ],
      "metadata": {
        "id": "u4D7ef66vZjQ"
      },
      "execution_count": 10,
      "outputs": []
    },
    {
      "cell_type": "code",
      "source": [
        "from keras.utils import to_categorical #Lệnh chuyển qua \n",
        "\n",
        "y_train = to_categorical(y_train, 10) #chuyển sang 10 kênh\n",
        "y_test = to_categorical(y_test, 10)"
      ],
      "metadata": {
        "id": "xUlCwE03vdhe"
      },
      "execution_count": 11,
      "outputs": []
    },
    {
      "cell_type": "code",
      "source": [
        "model.compile(optimizer='rmsprop',loss='categorical_crossentropy',metrics=['accuracy'])\n",
        "model.fit(x_train,y_train,epochs = 10, batch_size= 128) # Mỗi lần học chỉ 128 dữ liệu, không học hết 60000 dữ liệu , học tổng cộng 10 lầnlần\n",
        "test_loss, test_acc = model.evaluate(x_test,y_test)\n",
        "print('test_accuracy:',test_acc)\n",
        "print('test_loss:',test_loss)"
      ],
      "metadata": {
        "colab": {
          "base_uri": "https://localhost:8080/"
        },
        "id": "m32GIRALvhMS",
        "outputId": "9d2ad9fc-2f12-48e8-8ac8-96653c118589"
      },
      "execution_count": 12,
      "outputs": [
        {
          "output_type": "stream",
          "name": "stdout",
          "text": [
            "Epoch 1/10\n",
            "469/469 [==============================] - 12s 22ms/step - loss: 0.5629 - accuracy: 0.7998\n",
            "Epoch 2/10\n",
            "469/469 [==============================] - 7s 14ms/step - loss: 0.3846 - accuracy: 0.8594\n",
            "Epoch 3/10\n",
            "469/469 [==============================] - 5s 11ms/step - loss: 0.3390 - accuracy: 0.8744\n",
            "Epoch 4/10\n",
            "469/469 [==============================] - 5s 10ms/step - loss: 0.3128 - accuracy: 0.8849\n",
            "Epoch 5/10\n",
            "469/469 [==============================] - 6s 12ms/step - loss: 0.2956 - accuracy: 0.8911\n",
            "Epoch 6/10\n",
            "469/469 [==============================] - 4s 10ms/step - loss: 0.2797 - accuracy: 0.8963\n",
            "Epoch 7/10\n",
            "469/469 [==============================] - 5s 10ms/step - loss: 0.2645 - accuracy: 0.9004\n",
            "Epoch 8/10\n",
            "469/469 [==============================] - 6s 12ms/step - loss: 0.2555 - accuracy: 0.9039\n",
            "Epoch 9/10\n",
            "469/469 [==============================] - 4s 9ms/step - loss: 0.2448 - accuracy: 0.9093\n",
            "Epoch 10/10\n",
            "469/469 [==============================] - 5s 11ms/step - loss: 0.2360 - accuracy: 0.9111\n",
            "313/313 [==============================] - 1s 4ms/step - loss: 0.3266 - accuracy: 0.8848\n",
            "test_accuracy: 0.8848000168800354\n",
            "test_loss: 0.3265588581562042\n"
          ]
        }
      ]
    },
    {
      "cell_type": "code",
      "source": [
        "from keras.models import load_model\n",
        "# Tải mô hình từ file đã lưu\n",
        "model = load_model('./model_fashion_mnist.h5')"
      ],
      "metadata": {
        "id": "StNDO8XQvuL2"
      },
      "execution_count": 13,
      "outputs": []
    },
    {
      "cell_type": "code",
      "source": [
        "model.save('model_fashion_mnist.h5')"
      ],
      "metadata": {
        "id": "JnLWWI8owYXE"
      },
      "execution_count": 14,
      "outputs": []
    },
    {
      "cell_type": "code",
      "source": [],
      "metadata": {
        "id": "95q5gQpQwalF"
      },
      "execution_count": null,
      "outputs": []
    }
  ]
}