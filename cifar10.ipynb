{
  "nbformat": 4,
  "nbformat_minor": 0,
  "metadata": {
    "colab": {
      "provenance": [],
      "authorship_tag": "ABX9TyO0ykCuFVBM5/r71Gk5/2Oh",
      "include_colab_link": true
    },
    "kernelspec": {
      "name": "python3",
      "display_name": "Python 3"
    },
    "language_info": {
      "name": "python"
    }
  },
  "cells": [
    {
      "cell_type": "markdown",
      "metadata": {
        "id": "view-in-github",
        "colab_type": "text"
      },
      "source": [
        "<a href=\"https://colab.research.google.com/github/huy20146177/baitapAI/blob/main/cifar10.ipynb\" target=\"_parent\"><img src=\"https://colab.research.google.com/assets/colab-badge.svg\" alt=\"Open In Colab\"/></a>"
      ]
    },
    {
      "cell_type": "code",
      "execution_count": 4,
      "metadata": {
        "colab": {
          "base_uri": "https://localhost:8080/"
        },
        "id": "Ypc30K5x69iq",
        "outputId": "f132dabd-f29a-4bc1-d098-aab66908af26"
      },
      "outputs": [
        {
          "output_type": "stream",
          "name": "stdout",
          "text": [
            "Downloading data from https://www.cs.toronto.edu/~kriz/cifar-10-python.tar.gz\n",
            "170498071/170498071 [==============================] - 4s 0us/step\n"
          ]
        }
      ],
      "source": [
        "from keras.datasets import cifar10\n",
        "(x_train,y_train),(x_test,y_test)= cifar10.load_data()"
      ]
    },
    {
      "cell_type": "code",
      "source": [
        "x_train.shape"
      ],
      "metadata": {
        "colab": {
          "base_uri": "https://localhost:8080/"
        },
        "id": "46j6ETNV7SO6",
        "outputId": "88f8be00-1f8a-4e49-d5bd-3f5fe6297fa5"
      },
      "execution_count": 5,
      "outputs": [
        {
          "output_type": "execute_result",
          "data": {
            "text/plain": [
              "(50000, 32, 32, 3)"
            ]
          },
          "metadata": {},
          "execution_count": 5
        }
      ]
    },
    {
      "cell_type": "code",
      "source": [
        "y_train.shape"
      ],
      "metadata": {
        "colab": {
          "base_uri": "https://localhost:8080/"
        },
        "id": "ssZK7CQo7YOA",
        "outputId": "4c34249d-9d21-4acf-ec4d-8557a69906af"
      },
      "execution_count": 6,
      "outputs": [
        {
          "output_type": "execute_result",
          "data": {
            "text/plain": [
              "(50000, 1)"
            ]
          },
          "metadata": {},
          "execution_count": 6
        }
      ]
    },
    {
      "cell_type": "code",
      "source": [
        "x_test.shape"
      ],
      "metadata": {
        "colab": {
          "base_uri": "https://localhost:8080/"
        },
        "id": "ega074mf7Z4L",
        "outputId": "026eb54c-43b3-4bd9-b649-22e3a27cf89e"
      },
      "execution_count": 7,
      "outputs": [
        {
          "output_type": "execute_result",
          "data": {
            "text/plain": [
              "(10000, 32, 32, 3)"
            ]
          },
          "metadata": {},
          "execution_count": 7
        }
      ]
    },
    {
      "cell_type": "code",
      "source": [
        "y_test.shape"
      ],
      "metadata": {
        "colab": {
          "base_uri": "https://localhost:8080/"
        },
        "id": "ghZ8YZm07bim",
        "outputId": "cc873098-d798-4e08-f7af-978b9e4566ff"
      },
      "execution_count": 8,
      "outputs": [
        {
          "output_type": "execute_result",
          "data": {
            "text/plain": [
              "(10000, 1)"
            ]
          },
          "metadata": {},
          "execution_count": 8
        }
      ]
    },
    {
      "cell_type": "code",
      "source": [
        "import matplotlib.pyplot as plt\n",
        "hinh= x_train[5]   #Lấy hình ở vị trí thứ 55\n",
        "plt.imshow(hinh,cmap=plt.cm.binary)\n",
        "plt.show\n",
        "print(\"So nay la:\",y_train[5])"
      ],
      "metadata": {
        "colab": {
          "base_uri": "https://localhost:8080/",
          "height": 448
        },
        "id": "WLM7T30j7cz2",
        "outputId": "cd756fcf-1d78-41ba-b619-ed5cb49da8d5"
      },
      "execution_count": 9,
      "outputs": [
        {
          "output_type": "stream",
          "name": "stdout",
          "text": [
            "So nay la: [1]\n"
          ]
        },
        {
          "output_type": "display_data",
          "data": {
            "text/plain": [
              "<Figure size 640x480 with 1 Axes>"
            ],
            "image/png": "[encoded data removed]"
          },
          "metadata": {}
        }
      ]
    },
    {
      "cell_type": "code",
      "source": [
        "for i in range(10):\n",
        "  plt.subplot(3,5,i+1)  # 2 hàng 5 cột \n",
        "  plt.tight_layout()\n",
        "  plt.imshow(x_train[i],cmap='gray',interpolation='none')\n",
        "  plt.title(\"So:{}\".format(y_train[i]))\n",
        "  plt.xticks([])\n",
        "  plt.yticks([])"
      ],
      "metadata": {
        "colab": {
          "base_uri": "https://localhost:8080/",
          "height": 298
        },
        "id": "HRvdABr47ew0",
        "outputId": "d79cbfc0-f193-4074-ac2f-d42e3d4f577a"
      },
      "execution_count": 10,
      "outputs": [
        {
          "output_type": "display_data",
          "data": {
            "text/plain": [
              "<Figure size 640x480 with 10 Axes>"
            ],
            "image/png": "[encoded data removed]"
          },
          "metadata": {}
        }
      ]
    },
    {
      "cell_type": "code",
      "source": [
        "from keras.models import Sequential\n",
        "from keras.layers import Dense\n",
        "\n",
        "model= Sequential()\n",
        "model.add(Dense(512, input_shape = (32*32*3,), activation = 'relu'))\n",
        "model.add(Dense(10,activation= 'softmax'))\n",
        "model.summary()"
      ],
      "metadata": {
        "colab": {
          "base_uri": "https://localhost:8080/"
        },
        "id": "kM0KkBZr7gk6",
        "outputId": "cc755709-0cda-4c89-f920-95b66a8d02f8"
      },
      "execution_count": 11,
      "outputs": [
        {
          "output_type": "stream",
          "name": "stdout",
          "text": [
            "Model: \"sequential\"\n",
            "_________________________________________________________________\n",
            " Layer (type)                Output Shape              Param #   \n",
            "=================================================================\n",
            " dense (Dense)               (None, 512)               1573376   \n",
            "                                                                 \n",
            " dense_1 (Dense)             (None, 10)                5130      \n",
            "                                                                 \n",
            "=================================================================\n",
            "Total params: 1,578,506\n",
            "Trainable params: 1,578,506\n",
            "Non-trainable params: 0\n",
            "_________________________________________________________________\n"
          ]
        }
      ]
    },
    {
      "cell_type": "code",
      "source": [
        "x_train = x_train.reshape((50000,32*32*3,))\n",
        "x_train = x_train.astype('float32')/255\n",
        "x_test = x_test.reshape((10000,32*32*3,))\n",
        "x_test = x_test.astype('float32')/255"
      ],
      "metadata": {
        "id": "5op8DbEC7jie"
      },
      "execution_count": 12,
      "outputs": []
    },
    {
      "cell_type": "code",
      "source": [
        "from keras.utils import to_categorical #Lệnh chuyển qua \n",
        "\n",
        "y_train = to_categorical(y_train, 10) #chuyển sang 10 kênh\n",
        "y_test = to_categorical(y_test, 10)"
      ],
      "metadata": {
        "id": "yVoHABY37mwf"
      },
      "execution_count": 13,
      "outputs": []
    },
    {
      "cell_type": "code",
      "source": [
        "from keras.models import load_model\n",
        "# Tải mô hình từ file đã lưu\n",
        "model = load_model('./model_cifar10.h5')"
      ],
      "metadata": {
        "id": "EegCrRbe7ozq"
      },
      "execution_count": 14,
      "outputs": []
    },
    {
      "cell_type": "code",
      "source": [
        "model.compile(optimizer='rmsprop',loss='categorical_crossentropy',metrics=['accuracy'])\n",
        "model.fit(x_train,y_train,epochs = 100, batch_size= 128) # Mỗi lần học chỉ 128 dữ liệu, không học hết 60000 dữ liệu , học tổng cộng 10 lầnlần\n",
        "test_loss, test_acc = model.evaluate(x_test,y_test)\n",
        "print('test_accuracy:',test_acc)\n",
        "print('test_loss:',test_loss)\n",
        "model.save('model_cifar10.h5')"
      ],
      "metadata": {
        "id": "5VCqckNK7q9A",
        "colab": {
          "base_uri": "https://localhost:8080/"
        },
        "outputId": "8993518b-6ffc-4b1d-a469-7434272643e8"
      },
      "execution_count": 16,
      "outputs": [
        {
          "output_type": "stream",
          "name": "stdout",
          "text": [
            "Epoch 1/100\n",
            "391/391 [==============================] - 17s 38ms/step - loss: 0.5120 - accuracy: 0.8250\n",
            "Epoch 2/100\n",
            "391/391 [==============================] - 13s 34ms/step - loss: 0.4904 - accuracy: 0.8272\n",
            "Epoch 3/100\n",
            "391/391 [==============================] - 12s 32ms/step - loss: 0.4969 - accuracy: 0.8288\n",
            "Epoch 4/100\n",
            "391/391 [==============================] - 13s 33ms/step - loss: 0.4947 - accuracy: 0.8286\n",
            "Epoch 5/100\n",
            "391/391 [==============================] - 12s 32ms/step - loss: 0.4878 - accuracy: 0.8267\n",
            "Epoch 6/100\n",
            "391/391 [==============================] - 12s 30ms/step - loss: 0.4914 - accuracy: 0.8281\n",
            "Epoch 7/100\n",
            "391/391 [==============================] - 12s 30ms/step - loss: 0.4935 - accuracy: 0.8276\n",
            "Epoch 8/100\n",
            "391/391 [==============================] - 12s 31ms/step - loss: 0.4918 - accuracy: 0.8293\n",
            "Epoch 9/100\n",
            "391/391 [==============================] - 12s 31ms/step - loss: 0.4959 - accuracy: 0.8262\n",
            "Epoch 10/100\n",
            "391/391 [==============================] - 12s 32ms/step - loss: 0.4875 - accuracy: 0.8297\n",
            "Epoch 11/100\n",
            "391/391 [==============================] - 13s 34ms/step - loss: 0.4894 - accuracy: 0.8279\n",
            "Epoch 12/100\n",
            "391/391 [==============================] - 13s 34ms/step - loss: 0.4885 - accuracy: 0.8281\n",
            "Epoch 13/100\n",
            "391/391 [==============================] - 13s 33ms/step - loss: 0.4907 - accuracy: 0.8299\n",
            "Epoch 14/100\n",
            "391/391 [==============================] - 13s 34ms/step - loss: 0.4869 - accuracy: 0.8297\n",
            "Epoch 15/100\n",
            "391/391 [==============================] - 13s 32ms/step - loss: 0.4901 - accuracy: 0.8287\n",
            "Epoch 16/100\n",
            "391/391 [==============================] - 13s 32ms/step - loss: 0.4938 - accuracy: 0.8282\n",
            "Epoch 17/100\n",
            "391/391 [==============================] - 12s 32ms/step - loss: 0.4875 - accuracy: 0.8289\n",
            "Epoch 18/100\n",
            "391/391 [==============================] - 13s 33ms/step - loss: 0.4896 - accuracy: 0.8286\n",
            "Epoch 19/100\n",
            "391/391 [==============================] - 14s 35ms/step - loss: 0.4827 - accuracy: 0.8323\n",
            "Epoch 20/100\n",
            "391/391 [==============================] - 12s 32ms/step - loss: 0.4822 - accuracy: 0.8322\n",
            "Epoch 21/100\n",
            "391/391 [==============================] - 13s 34ms/step - loss: 0.4895 - accuracy: 0.8290\n",
            "Epoch 22/100\n",
            "391/391 [==============================] - 14s 36ms/step - loss: 0.4826 - accuracy: 0.8300\n",
            "Epoch 23/100\n",
            "391/391 [==============================] - 13s 34ms/step - loss: 0.4881 - accuracy: 0.8306\n",
            "Epoch 24/100\n",
            "391/391 [==============================] - 12s 31ms/step - loss: 0.4846 - accuracy: 0.8303\n",
            "Epoch 25/100\n",
            "391/391 [==============================] - 14s 35ms/step - loss: 0.4811 - accuracy: 0.8326\n",
            "Epoch 26/100\n",
            "391/391 [==============================] - 12s 32ms/step - loss: 0.4881 - accuracy: 0.8303\n",
            "Epoch 27/100\n",
            "391/391 [==============================] - 12s 32ms/step - loss: 0.4868 - accuracy: 0.8313\n",
            "Epoch 28/100\n",
            "391/391 [==============================] - 12s 31ms/step - loss: 0.4846 - accuracy: 0.8317\n",
            "Epoch 29/100\n",
            "391/391 [==============================] - 12s 32ms/step - loss: 0.4845 - accuracy: 0.8308\n",
            "Epoch 30/100\n",
            "391/391 [==============================] - 12s 32ms/step - loss: 0.4822 - accuracy: 0.8315\n",
            "Epoch 31/100\n",
            "391/391 [==============================] - 13s 32ms/step - loss: 0.4819 - accuracy: 0.8320\n",
            "Epoch 32/100\n",
            "391/391 [==============================] - 12s 32ms/step - loss: 0.4854 - accuracy: 0.8318\n",
            "Epoch 33/100\n",
            "391/391 [==============================] - 13s 32ms/step - loss: 0.4774 - accuracy: 0.8313\n",
            "Epoch 34/100\n",
            "391/391 [==============================] - 13s 32ms/step - loss: 0.4807 - accuracy: 0.8317\n",
            "Epoch 35/100\n",
            "391/391 [==============================] - 12s 32ms/step - loss: 0.4847 - accuracy: 0.8327\n",
            "Epoch 36/100\n",
            "391/391 [==============================] - 13s 32ms/step - loss: 0.4777 - accuracy: 0.8339\n",
            "Epoch 37/100\n",
            "391/391 [==============================] - 13s 33ms/step - loss: 0.4786 - accuracy: 0.8336\n",
            "Epoch 38/100\n",
            "391/391 [==============================] - 12s 32ms/step - loss: 0.4784 - accuracy: 0.8322\n",
            "Epoch 39/100\n",
            "391/391 [==============================] - 13s 32ms/step - loss: 0.4810 - accuracy: 0.8322\n",
            "Epoch 40/100\n",
            "391/391 [==============================] - 13s 33ms/step - loss: 0.4789 - accuracy: 0.8344\n",
            "Epoch 41/100\n",
            "391/391 [==============================] - 13s 33ms/step - loss: 0.4844 - accuracy: 0.8315\n",
            "Epoch 42/100\n",
            "391/391 [==============================] - 13s 33ms/step - loss: 0.4763 - accuracy: 0.8339\n",
            "Epoch 43/100\n",
            "391/391 [==============================] - 13s 33ms/step - loss: 0.4814 - accuracy: 0.8327\n",
            "Epoch 44/100\n",
            "391/391 [==============================] - 13s 32ms/step - loss: 0.4732 - accuracy: 0.8355\n",
            "Epoch 45/100\n",
            "391/391 [==============================] - 12s 31ms/step - loss: 0.4740 - accuracy: 0.8354\n",
            "Epoch 46/100\n",
            "391/391 [==============================] - 13s 32ms/step - loss: 0.4759 - accuracy: 0.8332\n",
            "Epoch 47/100\n",
            "391/391 [==============================] - 13s 32ms/step - loss: 0.4737 - accuracy: 0.8360\n",
            "Epoch 48/100\n",
            "391/391 [==============================] - 14s 36ms/step - loss: 0.4748 - accuracy: 0.8348\n",
            "Epoch 49/100\n",
            "391/391 [==============================] - 12s 32ms/step - loss: 0.4734 - accuracy: 0.8352\n",
            "Epoch 50/100\n",
            "391/391 [==============================] - 13s 32ms/step - loss: 0.4757 - accuracy: 0.8347\n",
            "Epoch 51/100\n",
            "391/391 [==============================] - 13s 33ms/step - loss: 0.4779 - accuracy: 0.8346\n",
            "Epoch 52/100\n",
            "391/391 [==============================] - 13s 32ms/step - loss: 0.4721 - accuracy: 0.8361\n",
            "Epoch 53/100\n",
            "391/391 [==============================] - 13s 32ms/step - loss: 0.4666 - accuracy: 0.8354\n",
            "Epoch 54/100\n",
            "391/391 [==============================] - 12s 32ms/step - loss: 0.4707 - accuracy: 0.8347\n",
            "Epoch 55/100\n",
            "391/391 [==============================] - 12s 31ms/step - loss: 0.4736 - accuracy: 0.8349\n",
            "Epoch 56/100\n",
            "391/391 [==============================] - 13s 33ms/step - loss: 0.4717 - accuracy: 0.8363\n",
            "Epoch 57/100\n",
            "391/391 [==============================] - 12s 30ms/step - loss: 0.4715 - accuracy: 0.8356\n",
            "Epoch 58/100\n",
            "391/391 [==============================] - 12s 31ms/step - loss: 0.4698 - accuracy: 0.8362\n",
            "Epoch 59/100\n",
            "391/391 [==============================] - 13s 34ms/step - loss: 0.4699 - accuracy: 0.8358\n",
            "Epoch 60/100\n",
            "391/391 [==============================] - 13s 33ms/step - loss: 0.4677 - accuracy: 0.8354\n",
            "Epoch 61/100\n",
            "391/391 [==============================] - 13s 33ms/step - loss: 0.4744 - accuracy: 0.8355\n",
            "Epoch 62/100\n",
            "391/391 [==============================] - 13s 33ms/step - loss: 0.4680 - accuracy: 0.8365\n",
            "Epoch 63/100\n",
            "391/391 [==============================] - 13s 32ms/step - loss: 0.4688 - accuracy: 0.8367\n",
            "Epoch 64/100\n",
            "391/391 [==============================] - 14s 35ms/step - loss: 0.4707 - accuracy: 0.8377\n",
            "Epoch 65/100\n",
            "391/391 [==============================] - 14s 36ms/step - loss: 0.4677 - accuracy: 0.8366\n",
            "Epoch 66/100\n",
            "391/391 [==============================] - 14s 35ms/step - loss: 0.4660 - accuracy: 0.8391\n",
            "Epoch 67/100\n",
            "391/391 [==============================] - 13s 34ms/step - loss: 0.4713 - accuracy: 0.8362\n",
            "Epoch 68/100\n",
            "391/391 [==============================] - 14s 35ms/step - loss: 0.4659 - accuracy: 0.8361\n",
            "Epoch 69/100\n",
            "391/391 [==============================] - 14s 35ms/step - loss: 0.4708 - accuracy: 0.8357\n",
            "Epoch 70/100\n",
            "391/391 [==============================] - 14s 35ms/step - loss: 0.4614 - accuracy: 0.8369\n",
            "Epoch 71/100\n",
            "391/391 [==============================] - 14s 36ms/step - loss: 0.4706 - accuracy: 0.8375\n",
            "Epoch 72/100\n",
            "391/391 [==============================] - 14s 35ms/step - loss: 0.4676 - accuracy: 0.8387\n",
            "Epoch 73/100\n",
            "391/391 [==============================] - 13s 34ms/step - loss: 0.4666 - accuracy: 0.8382\n",
            "Epoch 74/100\n",
            "391/391 [==============================] - 13s 34ms/step - loss: 0.4675 - accuracy: 0.8356\n",
            "Epoch 75/100\n",
            "391/391 [==============================] - 13s 34ms/step - loss: 0.4624 - accuracy: 0.8381\n",
            "Epoch 76/100\n",
            "391/391 [==============================] - 13s 33ms/step - loss: 0.4664 - accuracy: 0.8383\n",
            "Epoch 77/100\n",
            "391/391 [==============================] - 13s 34ms/step - loss: 0.4647 - accuracy: 0.8400\n",
            "Epoch 78/100\n",
            "391/391 [==============================] - 13s 34ms/step - loss: 0.4680 - accuracy: 0.8361\n",
            "Epoch 79/100\n",
            "391/391 [==============================] - 14s 35ms/step - loss: 0.4634 - accuracy: 0.8387\n",
            "Epoch 80/100\n",
            "391/391 [==============================] - 13s 33ms/step - loss: 0.4635 - accuracy: 0.8378\n",
            "Epoch 81/100\n",
            "391/391 [==============================] - 13s 33ms/step - loss: 0.4649 - accuracy: 0.8362\n",
            "Epoch 82/100\n",
            "391/391 [==============================] - 13s 33ms/step - loss: 0.4605 - accuracy: 0.8397\n",
            "Epoch 83/100\n",
            "391/391 [==============================] - 13s 34ms/step - loss: 0.4635 - accuracy: 0.8398\n",
            "Epoch 84/100\n",
            "391/391 [==============================] - 13s 32ms/step - loss: 0.4620 - accuracy: 0.8393\n",
            "Epoch 85/100\n",
            "391/391 [==============================] - 13s 33ms/step - loss: 0.4626 - accuracy: 0.8387\n",
            "Epoch 86/100\n",
            "391/391 [==============================] - 13s 34ms/step - loss: 0.4636 - accuracy: 0.8399\n",
            "Epoch 87/100\n",
            "391/391 [==============================] - 14s 35ms/step - loss: 0.4584 - accuracy: 0.8412\n",
            "Epoch 88/100\n",
            "391/391 [==============================] - 13s 34ms/step - loss: 0.4628 - accuracy: 0.8383\n",
            "Epoch 89/100\n",
            "391/391 [==============================] - 13s 34ms/step - loss: 0.4592 - accuracy: 0.8402\n",
            "Epoch 90/100\n",
            "391/391 [==============================] - 13s 33ms/step - loss: 0.4521 - accuracy: 0.8408\n",
            "Epoch 91/100\n",
            "391/391 [==============================] - 14s 37ms/step - loss: 0.4577 - accuracy: 0.8403\n",
            "Epoch 92/100\n",
            "391/391 [==============================] - 14s 35ms/step - loss: 0.4606 - accuracy: 0.8393\n",
            "Epoch 93/100\n",
            "391/391 [==============================] - 14s 35ms/step - loss: 0.4532 - accuracy: 0.8431\n",
            "Epoch 94/100\n",
            "391/391 [==============================] - 13s 34ms/step - loss: 0.4590 - accuracy: 0.8401\n",
            "Epoch 95/100\n",
            "391/391 [==============================] - 13s 33ms/step - loss: 0.4588 - accuracy: 0.8385\n",
            "Epoch 96/100\n",
            "391/391 [==============================] - 13s 32ms/step - loss: 0.4611 - accuracy: 0.8417\n",
            "Epoch 97/100\n",
            "391/391 [==============================] - 13s 33ms/step - loss: 0.4601 - accuracy: 0.8409\n",
            "Epoch 98/100\n",
            "391/391 [==============================] - 13s 33ms/step - loss: 0.4594 - accuracy: 0.8383\n",
            "Epoch 99/100\n",
            "391/391 [==============================] - 13s 33ms/step - loss: 0.4601 - accuracy: 0.8395\n",
            "Epoch 100/100\n",
            "391/391 [==============================] - 13s 33ms/step - loss: 0.4519 - accuracy: 0.8416\n",
            "313/313 [==============================] - 2s 5ms/step - loss: 6.0546 - accuracy: 0.4457\n",
            "test_accuracy: 0.4456999897956848\n",
            "test_loss: 6.054574012756348\n"
          ]
        }
      ]
    },
    {
      "cell_type": "code",
      "source": [
        "model.save('model_cifar10.h5')"
      ],
      "metadata": {
        "id": "tTyr8ob18Qhv"
      },
      "execution_count": 17,
      "outputs": []
    },
    {
      "cell_type": "code",
      "source": [
        "from keras.utils.image_utils import img_to_array \n",
        "from keras.utils import load_img \n",
        "import numpy as np\n",
        "img = load_img('cho.jpg',target_size=(32,32))\n",
        "plt.imshow(img)\n",
        "\n",
        "img= img_to_array(img)\n",
        "\n",
        "img =img.reshape(1,32*32*3)\n",
        "img = img.astype('float32')\n",
        "img = img /255\n",
        "np.argmax(model.predict(img),axis=-1)"
      ],
      "metadata": {
        "colab": {
          "base_uri": "https://localhost:8080/",
          "height": 466
        },
        "id": "wWH-_qh4Pt0z",
        "outputId": "f3870f99-c94a-4304-bb00-e963cbee76d0"
      },
      "execution_count": 20,
      "outputs": [
        {
          "output_type": "stream",
          "name": "stdout",
          "text": [
            "1/1 [==============================] - 0s 88ms/step\n"
          ]
        },
        {
          "output_type": "execute_result",
          "data": {
            "text/plain": [
              "array([2])"
            ]
          },
          "metadata": {},
          "execution_count": 20
        },
        {
          "output_type": "display_data",
          "data": {
            "text/plain": [
              "<Figure size 640x480 with 1 Axes>"
            ],
            "image/png": "[encoded data removed]"
          },
          "metadata": {}
        }
      ]
    },
    {
      "cell_type": "code",
      "source": [],
      "metadata": {
        "id": "V5AtV9UJPv4R"
      },
      "execution_count": null,
      "outputs": []
    }
  ]
}